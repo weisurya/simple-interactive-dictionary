{
 "cells": [
  {
   "cell_type": "markdown",
   "metadata": {
    "collapsed": true
   },
   "source": [
    "# Main Section"
   ]
  },
  {
   "cell_type": "code",
   "execution_count": null,
   "metadata": {
    "collapsed": true
   },
   "outputs": [],
   "source": [
    "import json\n",
    "import difflib\n",
    "from difflib import SequenceMatcher as sm, get_close_matches as cm"
   ]
  },
  {
   "cell_type": "code",
   "execution_count": 3,
   "metadata": {},
   "outputs": [],
   "source": [
    "data = json.load(open(\"data.json\"))\n",
    "# type(data)"
   ]
  },
  {
   "cell_type": "code",
   "execution_count": 44,
   "metadata": {},
   "outputs": [],
   "source": [
    "def translate(word):\n",
    "    word = word.lower()\n",
    "    if word in data :\n",
    "        return data[word]\n",
    "    elif len(cm(word, data.keys())) > 0:\n",
    "        yn = input(\"Did you mean %s instead? Enter Y is yes, or N if no: \" % cm(word, data.keys())[0])\n",
    "        yn = yn.upper()\n",
    "        if yn == \"Y\":\n",
    "            print(\"The definition of %s:\" % cm(word, data.keys())[0])\n",
    "            return data[cm(word, data.keys())[0]]\n",
    "        if yn == \"N\":\n",
    "            return \"The word doesn't exist Please double check it.\"\n",
    "        else:\n",
    "            return \"We didn't understand your entry.\"\n",
    "    else:\n",
    "        return \"The word doesn't exist Please double check it.\""
   ]
  },
  {
   "cell_type": "code",
   "execution_count": null,
   "metadata": {},
   "outputs": [
    {
     "name": "stdout",
     "output_type": "stream",
     "text": [
      "Enter word: math\n",
      "Did you mean match instead? Enter Y is yes, or N if no: y\n",
      "The definition of match:\n",
      "To satisfy or fulfill (e.g. a job or a need).\n",
      "A stick with inflammable substance on one end that can be set on fire by friction.\n",
      "To bring two objects, ideas, or people together.\n",
      "To be compatible, similar or consistent; coincide in their characteristics.\n",
      "A formal contest in which two or more persons or teams compete.\n",
      "A pair of people who live together.\n",
      "To be equal to in quality or ability.\n"
     ]
    }
   ],
   "source": [
    "word = input(\"Enter word: \")\n",
    "output = translate(word)\n",
    "\n",
    "if type(output) == list:\n",
    "    for item in output:\n",
    "        print(item)\n",
    "else:\n",
    "    print(output)\n",
    "\n",
    "print(translate(word))"
   ]
  },
  {
   "cell_type": "code",
   "execution_count": null,
   "metadata": {
    "collapsed": true
   },
   "outputs": [],
   "source": [
    "# Testing Section"
   ]
  },
  {
   "cell_type": "code",
   "execution_count": 13,
   "metadata": {},
   "outputs": [
    {
     "data": {
      "text/plain": [
       "0.8888888888888888"
      ]
     },
     "execution_count": 13,
     "metadata": {},
     "output_type": "execute_result"
    }
   ],
   "source": [
    "# sm(None, \"rainn\", \"rain\")\n",
    "sm(None, \"rainn\", \"rain\").ratio()"
   ]
  },
  {
   "cell_type": "code",
   "execution_count": 20,
   "metadata": {},
   "outputs": [
    {
     "data": {
      "text/plain": [
       "'rain'"
      ]
     },
     "execution_count": 20,
     "metadata": {},
     "output_type": "execute_result"
    }
   ],
   "source": [
    "# help(cm)\n",
    "# cm(\"rainn\", [\"help\", \"pyramid\", \"rain\"])\n",
    "# cm(\"rainn\", data.keys(), n=1) #will appear as array\n",
    "cm(\"rainn\", data.keys())[0] #will appear as string"
   ]
  },
  {
   "cell_type": "code",
   "execution_count": null,
   "metadata": {
    "collapsed": true
   },
   "outputs": [],
   "source": []
  }
 ],
 "metadata": {
  "kernelspec": {
   "display_name": "Python 3",
   "language": "python",
   "name": "python3"
  },
  "language_info": {
   "codemirror_mode": {
    "name": "ipython",
    "version": 3
   },
   "file_extension": ".py",
   "mimetype": "text/x-python",
   "name": "python",
   "nbconvert_exporter": "python",
   "pygments_lexer": "ipython3",
   "version": "3.6.2"
  }
 },
 "nbformat": 4,
 "nbformat_minor": 2
}
